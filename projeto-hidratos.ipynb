{
 "cells": [
  {
   "cell_type": "code",
   "execution_count": 1,
   "id": "8bd90475",
   "metadata": {
    "execution": {
     "iopub.execute_input": "2022-12-20T19:09:34.974563Z",
     "iopub.status.busy": "2022-12-20T19:09:34.973729Z",
     "iopub.status.idle": "2022-12-20T19:09:36.444368Z",
     "shell.execute_reply": "2022-12-20T19:09:36.443427Z"
    },
    "papermill": {
     "duration": 1.485148,
     "end_time": "2022-12-20T19:09:36.447115",
     "exception": false,
     "start_time": "2022-12-20T19:09:34.961967",
     "status": "completed"
    },
    "tags": []
   },
   "outputs": [],
   "source": [
    "import pandas as pd\n",
    "import numpy as np\n",
    "import seaborn as sns\n",
    "import matplotlib.pyplot as plt\n",
    "import missingno\n",
    "import glob\n",
    "import os"
   ]
  },
  {
   "cell_type": "code",
   "execution_count": 2,
   "id": "03e23644",
   "metadata": {
    "execution": {
     "iopub.execute_input": "2022-12-20T19:09:36.465363Z",
     "iopub.status.busy": "2022-12-20T19:09:36.465048Z",
     "iopub.status.idle": "2022-12-20T19:09:36.502017Z",
     "shell.execute_reply": "2022-12-20T19:09:36.501004Z"
    },
    "papermill": {
     "duration": 0.049159,
     "end_time": "2022-12-20T19:09:36.505036",
     "exception": false,
     "start_time": "2022-12-20T19:09:36.455877",
     "status": "completed"
    },
    "tags": []
   },
   "outputs": [
    {
     "data": {
      "text/html": [
       "<div>\n",
       "<style scoped>\n",
       "    .dataframe tbody tr th:only-of-type {\n",
       "        vertical-align: middle;\n",
       "    }\n",
       "\n",
       "    .dataframe tbody tr th {\n",
       "        vertical-align: top;\n",
       "    }\n",
       "\n",
       "    .dataframe thead th {\n",
       "        text-align: right;\n",
       "    }\n",
       "</style>\n",
       "<table border=\"1\" class=\"dataframe\">\n",
       "  <thead>\n",
       "    <tr style=\"text-align: right;\">\n",
       "      <th></th>\n",
       "      <th>Tag</th>\n",
       "      <th>Nome</th>\n",
       "      <th>Unidades</th>\n",
       "    </tr>\n",
       "    <tr>\n",
       "      <th>Variável</th>\n",
       "      <th></th>\n",
       "      <th></th>\n",
       "      <th></th>\n",
       "    </tr>\n",
       "  </thead>\n",
       "  <tbody>\n",
       "    <tr>\n",
       "      <th>1</th>\n",
       "      <td>P-PDG</td>\n",
       "      <td>Pressão na PDG (Medidor de fundo)</td>\n",
       "      <td>Pa</td>\n",
       "    </tr>\n",
       "    <tr>\n",
       "      <th>2</th>\n",
       "      <td>P-TPT</td>\n",
       "      <td>Pressão no TPT (Transdutor de temp. e pressão)</td>\n",
       "      <td>Pa</td>\n",
       "    </tr>\n",
       "    <tr>\n",
       "      <th>3</th>\n",
       "      <td>T-TPT</td>\n",
       "      <td>Temperatura no TPT (Transdutor de temp. e pres...</td>\n",
       "      <td>°C</td>\n",
       "    </tr>\n",
       "    <tr>\n",
       "      <th>4</th>\n",
       "      <td>P-MON-CKP</td>\n",
       "      <td>Pressão upstream na PCK (Válvula choke de prod...</td>\n",
       "      <td>Pa</td>\n",
       "    </tr>\n",
       "    <tr>\n",
       "      <th>5</th>\n",
       "      <td>T-JUS-CKP</td>\n",
       "      <td>Temperatura downstream na PCK (Válvula choke d...</td>\n",
       "      <td>°C</td>\n",
       "    </tr>\n",
       "    <tr>\n",
       "      <th>6</th>\n",
       "      <td>P-JUS-CKGL</td>\n",
       "      <td>Pressão downstream na GLCK (Gás lift)</td>\n",
       "      <td>Pa</td>\n",
       "    </tr>\n",
       "    <tr>\n",
       "      <th>7</th>\n",
       "      <td>T-JUS-CKGL</td>\n",
       "      <td>Temperatura downstream na GLCK (Gás lift)</td>\n",
       "      <td>°C</td>\n",
       "    </tr>\n",
       "    <tr>\n",
       "      <th>8</th>\n",
       "      <td>QGL</td>\n",
       "      <td>Vazão do Gas lift</td>\n",
       "      <td>m³/s</td>\n",
       "    </tr>\n",
       "  </tbody>\n",
       "</table>\n",
       "</div>"
      ],
      "text/plain": [
       "                 Tag                                               Nome  \\\n",
       "Variável                                                                  \n",
       "1              P-PDG                  Pressão na PDG (Medidor de fundo)   \n",
       "2              P-TPT     Pressão no TPT (Transdutor de temp. e pressão)   \n",
       "3              T-TPT  Temperatura no TPT (Transdutor de temp. e pres...   \n",
       "4          P-MON-CKP  Pressão upstream na PCK (Válvula choke de prod...   \n",
       "5          T-JUS-CKP  Temperatura downstream na PCK (Válvula choke d...   \n",
       "6         P-JUS-CKGL              Pressão downstream na GLCK (Gás lift)   \n",
       "7         T-JUS-CKGL          Temperatura downstream na GLCK (Gás lift)   \n",
       "8                QGL                                  Vazão do Gas lift   \n",
       "\n",
       "         Unidades  \n",
       "Variável           \n",
       "1              Pa  \n",
       "2              Pa  \n",
       "3              °C  \n",
       "4              Pa  \n",
       "5              °C  \n",
       "6              Pa  \n",
       "7              °C  \n",
       "8            m³/s  "
      ]
     },
     "execution_count": 2,
     "metadata": {},
     "output_type": "execute_result"
    }
   ],
   "source": [
    "tags = {'P-PDG':'Pa', \n",
    "        'P-TPT':'Pa', 'T-TPT':'°C',\n",
    "         'P-MON-CKP':'Pa', 'T-JUS-CKP':'°C', \n",
    "         'P-JUS-CKGL':'Pa', 'T-JUS-CKGL':'°C',\n",
    "         'QGL': 'm³/s'}\n",
    "\n",
    "var = ['Pressão na PDG (Medidor de fundo)',\n",
    "         'Pressão no TPT (Transdutor de temp. e pressão)',\n",
    "         'Temperatura no TPT (Transdutor de temp. e pressão)',\n",
    "         'Pressão upstream na PCK (Válvula choke de produção)',\n",
    "         'Temperatura downstream na PCK (Válvula choke de produção)',\n",
    "         'Pressão downstream na GLCK (Gás lift)',\n",
    "         'Temperatura downstream na GLCK (Gás lift)',\n",
    "         'Vazão do Gas lift']\n",
    "\n",
    "reference_table = pd.DataFrame(index=np.arange(1,len(var)+1))\n",
    "reference_table.index.name='Variável'\n",
    "reference_table['Tag'] = tags.keys()\n",
    "reference_table['Nome'] = var\n",
    "reference_table['Unidades'] = tags.values()\n",
    "reference_table"
   ]
  },
  {
   "cell_type": "code",
   "execution_count": 3,
   "id": "8a7a5556",
   "metadata": {
    "execution": {
     "iopub.execute_input": "2022-12-20T19:09:36.525526Z",
     "iopub.status.busy": "2022-12-20T19:09:36.524650Z",
     "iopub.status.idle": "2022-12-20T19:09:44.729493Z",
     "shell.execute_reply": "2022-12-20T19:09:44.728201Z"
    },
    "papermill": {
     "duration": 8.218432,
     "end_time": "2022-12-20T19:09:44.732161",
     "exception": false,
     "start_time": "2022-12-20T19:09:36.513729",
     "status": "completed"
    },
    "tags": []
   },
   "outputs": [
    {
     "name": "stdout",
     "output_type": "stream",
     "text": [
      "CPU times: user 3.25 s, sys: 668 ms, total: 3.91 s\n",
      "Wall time: 8.2 s\n"
     ]
    }
   ],
   "source": [
    "%%time\n",
    "EVENT = 8\n",
    "\n",
    "PATH = f'/kaggle/input/3w-dataset/3W/{EVENT}/'\n",
    "\n",
    "files = [f for f in os.listdir(PATH) if os.path.isfile(os.path.join(PATH, f))]\n",
    "files\n",
    "\n",
    "dfs = {}\n",
    "\n",
    "for file in files:\n",
    "    \n",
    "    dfs[file[:-4]] = pd.read_csv(f'{PATH}/{file}', index_col = 0,\n",
    "                     parse_dates = True).rename_axis(None)\n",
    "\n",
    "n_real = []\n",
    "n_sim = []\n",
    "    \n",
    "for key in dfs.keys():\n",
    "    if 'SIMULATED' in key:\n",
    "        n_sim.append(int(key[13:15]))\n",
    "        continue\n",
    "    else:\n",
    "        n_real.append(int(key[8:10]))"
   ]
  },
  {
   "cell_type": "code",
   "execution_count": 4,
   "id": "beb9ae12",
   "metadata": {
    "execution": {
     "iopub.execute_input": "2022-12-20T19:09:44.752951Z",
     "iopub.status.busy": "2022-12-20T19:09:44.751493Z",
     "iopub.status.idle": "2022-12-20T19:09:58.459133Z",
     "shell.execute_reply": "2022-12-20T19:09:58.458046Z"
    },
    "papermill": {
     "duration": 13.719928,
     "end_time": "2022-12-20T19:09:58.461501",
     "exception": false,
     "start_time": "2022-12-20T19:09:44.741573",
     "status": "completed"
    },
    "tags": []
   },
   "outputs": [
    {
     "name": "stdout",
     "output_type": "stream",
     "text": [
      "Número de instâncias: 84\n",
      "Número de instâncias simuladas: 81\n",
      "Número de instâncias reais: 3\n",
      "CPU times: user 10.7 s, sys: 2.66 s, total: 13.4 s\n",
      "Wall time: 13.7 s\n"
     ]
    }
   ],
   "source": [
    "%%time\n",
    "\n",
    "n_instancia = 0\n",
    "n_simulados = 0\n",
    "n_reais = 0\n",
    "dados_simulados = pd.DataFrame()\n",
    "dados_reais = pd.DataFrame()\n",
    "\n",
    "\n",
    "file_list = glob.glob(PATH + \"/*.csv\")\n",
    "todos_dados = pd.DataFrame(pd.read_csv(file_list[0]))\n",
    "\n",
    "for i in range(0,(len(file_list))):\n",
    "\n",
    "  if 'SIMULATED' in file_list[i]:\n",
    "    simulados = pd.read_table(file_list[i], sep = ',')\n",
    "    df = pd.DataFrame(simulados)\n",
    "    df['N_Simulacao'] = n_sim[n_simulados]\n",
    "    dados_simulados = pd.concat([dados_simulados, df], axis = 0, ignore_index = True)\n",
    "    #dados_simulados = pd.concat([dados_simulados, indice_sim], axis = 0, ignore_index = True)\n",
    "    n_simulados +=1\n",
    "  else:\n",
    "    reais = pd.read_table(file_list[i], sep = ',')\n",
    "    df = pd.DataFrame(reais)\n",
    "    df['Inst_real'] = n_real[n_reais]\n",
    "    dados_reais = pd.concat([dados_reais, df], axis = 0, ignore_index = True)\n",
    "    n_reais += 1\n",
    "\n",
    "  data = pd.read_table(file_list[i], sep = ',')\n",
    "  df_ = pd.DataFrame(data)\n",
    "  todos_dados = pd.concat([todos_dados, df_], axis = 0, ignore_index = True)\n",
    "  n_instancia +=1\n",
    "\n",
    "print(\"Número de instâncias:\", n_instancia)\n",
    "print(\"Número de instâncias simuladas:\", n_simulados)\n",
    "print(\"Número de instâncias reais:\", n_reais)"
   ]
  },
  {
   "cell_type": "markdown",
   "id": "c6c6acf1",
   "metadata": {
    "papermill": {
     "duration": 0.009187,
     "end_time": "2022-12-20T19:09:58.480589",
     "exception": false,
     "start_time": "2022-12-20T19:09:58.471402",
     "status": "completed"
    },
    "tags": []
   },
   "source": [
    "# Análise dos dados"
   ]
  },
  {
   "cell_type": "markdown",
   "id": "4a750ccd",
   "metadata": {
    "papermill": {
     "duration": 0.009431,
     "end_time": "2022-12-20T19:09:58.498869",
     "exception": false,
     "start_time": "2022-12-20T19:09:58.489438",
     "status": "completed"
    },
    "tags": []
   },
   "source": [
    "### Interpolação dos dados faltantes"
   ]
  },
  {
   "cell_type": "code",
   "execution_count": 5,
   "id": "edc9bd7e",
   "metadata": {
    "execution": {
     "iopub.execute_input": "2022-12-20T19:09:58.518585Z",
     "iopub.status.busy": "2022-12-20T19:09:58.517676Z",
     "iopub.status.idle": "2022-12-20T19:09:58.534189Z",
     "shell.execute_reply": "2022-12-20T19:09:58.533218Z"
    },
    "papermill": {
     "duration": 0.028434,
     "end_time": "2022-12-20T19:09:58.536358",
     "exception": false,
     "start_time": "2022-12-20T19:09:58.507924",
     "status": "completed"
    },
    "tags": []
   },
   "outputs": [],
   "source": [
    "dados_reais.interpolate(method='pad', limit=30, axis = 0, inplace = True)"
   ]
  },
  {
   "cell_type": "markdown",
   "id": "0e103971",
   "metadata": {
    "papermill": {
     "duration": 0.009025,
     "end_time": "2022-12-20T19:09:58.554730",
     "exception": false,
     "start_time": "2022-12-20T19:09:58.545705",
     "status": "completed"
    },
    "tags": []
   },
   "source": [
    "### Análise e tratamento de *outliers*"
   ]
  },
  {
   "cell_type": "code",
   "execution_count": 6,
   "id": "d53827d3",
   "metadata": {
    "execution": {
     "iopub.execute_input": "2022-12-20T19:09:58.573996Z",
     "iopub.status.busy": "2022-12-20T19:09:58.573157Z",
     "iopub.status.idle": "2022-12-20T19:10:01.099528Z",
     "shell.execute_reply": "2022-12-20T19:10:01.098429Z"
    },
    "papermill": {
     "duration": 2.538191,
     "end_time": "2022-12-20T19:10:01.101766",
     "exception": false,
     "start_time": "2022-12-20T19:09:58.563575",
     "status": "completed"
    },
    "tags": []
   },
   "outputs": [
    {
     "data": {
      "image/png": "[encoded data removed]",
      "text/plain": [
       "<Figure size 936x1080 with 5 Axes>"
      ]
     },
     "metadata": {
      "needs_background": "light"
     },
     "output_type": "display_data"
    }
   ],
   "source": [
    "df_1 = dados_simulados[['P-PDG', 'P-TPT', 'T-TPT', 'P-MON-CKP', 'T-JUS-CKP']]\n",
    "plt.figure(figsize=(13,15))\n",
    "\n",
    "for i,cat in enumerate(df_1):\n",
    "    plt.subplot(4,2,i+1)\n",
    "    sns.set_theme(style=\"whitegrid\", palette=\"pastel\")\n",
    "    sns.boxplot(x=cat, data=dados_simulados)\n",
    "    plt.title(\"Boxplot {}\".format(cat))\n",
    "plt.tight_layout()\n",
    "plt.show()"
   ]
  },
  {
   "cell_type": "code",
   "execution_count": 7,
   "id": "d135fbc7",
   "metadata": {
    "execution": {
     "iopub.execute_input": "2022-12-20T19:10:01.124906Z",
     "iopub.status.busy": "2022-12-20T19:10:01.124590Z",
     "iopub.status.idle": "2022-12-20T19:10:02.272261Z",
     "shell.execute_reply": "2022-12-20T19:10:02.271356Z"
    },
    "papermill": {
     "duration": 1.161894,
     "end_time": "2022-12-20T19:10:02.274789",
     "exception": false,
     "start_time": "2022-12-20T19:10:01.112895",
     "status": "completed"
    },
    "tags": []
   },
   "outputs": [
    {
     "data": {
      "image/png": "[encoded data removed]",
      "text/plain": [
       "<Figure size 936x1080 with 6 Axes>"
      ]
     },
     "metadata": {},
     "output_type": "display_data"
    }
   ],
   "source": [
    "df_2 = dados_reais[['P-PDG', 'P-TPT', 'T-TPT', 'P-MON-CKP', 'P-JUS-CKGL','QGL']]\n",
    "plt.figure(figsize=(13,15))\n",
    "\n",
    "for i,cat in enumerate(df_2):\n",
    "    plt.subplot(4,2,i+1)\n",
    "    sns.set_theme(style=\"whitegrid\", palette=\"pastel\")\n",
    "    sns.boxplot(x=cat, data=dados_reais)\n",
    "    plt.title(\"Boxplot {}\".format(cat))\n",
    "plt.tight_layout()\n",
    "plt.show()"
   ]
  },
  {
   "cell_type": "code",
   "execution_count": 8,
   "id": "2525cb6b",
   "metadata": {
    "execution": {
     "iopub.execute_input": "2022-12-20T19:10:02.297326Z",
     "iopub.status.busy": "2022-12-20T19:10:02.295788Z",
     "iopub.status.idle": "2022-12-20T19:10:02.575464Z",
     "shell.execute_reply": "2022-12-20T19:10:02.574420Z"
    },
    "papermill": {
     "duration": 0.293025,
     "end_time": "2022-12-20T19:10:02.577785",
     "exception": false,
     "start_time": "2022-12-20T19:10:02.284760",
     "status": "completed"
    },
    "tags": []
   },
   "outputs": [
    {
     "data": {
      "text/html": [
       "<div>\n",
       "<style scoped>\n",
       "    .dataframe tbody tr th:only-of-type {\n",
       "        vertical-align: middle;\n",
       "    }\n",
       "\n",
       "    .dataframe tbody tr th {\n",
       "        vertical-align: top;\n",
       "    }\n",
       "\n",
       "    .dataframe thead th {\n",
       "        text-align: right;\n",
       "    }\n",
       "</style>\n",
       "<table border=\"1\" class=\"dataframe\">\n",
       "  <thead>\n",
       "    <tr style=\"text-align: right;\">\n",
       "      <th></th>\n",
       "      <th>P-PDG</th>\n",
       "      <th>P-TPT</th>\n",
       "      <th>T-TPT</th>\n",
       "      <th>P-MON-CKP</th>\n",
       "      <th>T-JUS-CKP</th>\n",
       "    </tr>\n",
       "  </thead>\n",
       "  <tbody>\n",
       "    <tr>\n",
       "      <th>0</th>\n",
       "      <td>-0.997881</td>\n",
       "      <td>-1.475205</td>\n",
       "      <td>1.200606</td>\n",
       "      <td>-0.281959</td>\n",
       "      <td>1.397460</td>\n",
       "    </tr>\n",
       "    <tr>\n",
       "      <th>1</th>\n",
       "      <td>-0.997884</td>\n",
       "      <td>-1.475205</td>\n",
       "      <td>1.200606</td>\n",
       "      <td>-0.281959</td>\n",
       "      <td>1.397460</td>\n",
       "    </tr>\n",
       "    <tr>\n",
       "      <th>2</th>\n",
       "      <td>-0.997881</td>\n",
       "      <td>-1.475205</td>\n",
       "      <td>1.200606</td>\n",
       "      <td>-0.281959</td>\n",
       "      <td>1.397460</td>\n",
       "    </tr>\n",
       "    <tr>\n",
       "      <th>3</th>\n",
       "      <td>-0.997884</td>\n",
       "      <td>-1.475205</td>\n",
       "      <td>1.200606</td>\n",
       "      <td>-0.281959</td>\n",
       "      <td>1.397460</td>\n",
       "    </tr>\n",
       "    <tr>\n",
       "      <th>4</th>\n",
       "      <td>-0.997881</td>\n",
       "      <td>-1.475205</td>\n",
       "      <td>1.200606</td>\n",
       "      <td>-0.281959</td>\n",
       "      <td>1.397460</td>\n",
       "    </tr>\n",
       "    <tr>\n",
       "      <th>...</th>\n",
       "      <td>...</td>\n",
       "      <td>...</td>\n",
       "      <td>...</td>\n",
       "      <td>...</td>\n",
       "      <td>...</td>\n",
       "    </tr>\n",
       "    <tr>\n",
       "      <th>2186915</th>\n",
       "      <td>-0.093870</td>\n",
       "      <td>0.278250</td>\n",
       "      <td>-0.882796</td>\n",
       "      <td>-0.308915</td>\n",
       "      <td>-1.280758</td>\n",
       "    </tr>\n",
       "    <tr>\n",
       "      <th>2186916</th>\n",
       "      <td>-0.093160</td>\n",
       "      <td>0.278131</td>\n",
       "      <td>-0.882773</td>\n",
       "      <td>-0.308909</td>\n",
       "      <td>-1.281115</td>\n",
       "    </tr>\n",
       "    <tr>\n",
       "      <th>2186917</th>\n",
       "      <td>-0.092387</td>\n",
       "      <td>0.277605</td>\n",
       "      <td>-0.882669</td>\n",
       "      <td>-0.309152</td>\n",
       "      <td>-1.280783</td>\n",
       "    </tr>\n",
       "    <tr>\n",
       "      <th>2186918</th>\n",
       "      <td>-0.091749</td>\n",
       "      <td>0.277378</td>\n",
       "      <td>-0.882626</td>\n",
       "      <td>-0.309197</td>\n",
       "      <td>-1.279988</td>\n",
       "    </tr>\n",
       "    <tr>\n",
       "      <th>2186919</th>\n",
       "      <td>-0.091976</td>\n",
       "      <td>0.278258</td>\n",
       "      <td>-0.882799</td>\n",
       "      <td>-0.309194</td>\n",
       "      <td>-1.279585</td>\n",
       "    </tr>\n",
       "  </tbody>\n",
       "</table>\n",
       "<p>2186920 rows × 5 columns</p>\n",
       "</div>"
      ],
      "text/plain": [
       "            P-PDG     P-TPT     T-TPT  P-MON-CKP  T-JUS-CKP\n",
       "0       -0.997881 -1.475205  1.200606  -0.281959   1.397460\n",
       "1       -0.997884 -1.475205  1.200606  -0.281959   1.397460\n",
       "2       -0.997881 -1.475205  1.200606  -0.281959   1.397460\n",
       "3       -0.997884 -1.475205  1.200606  -0.281959   1.397460\n",
       "4       -0.997881 -1.475205  1.200606  -0.281959   1.397460\n",
       "...           ...       ...       ...        ...        ...\n",
       "2186915 -0.093870  0.278250 -0.882796  -0.308915  -1.280758\n",
       "2186916 -0.093160  0.278131 -0.882773  -0.308909  -1.281115\n",
       "2186917 -0.092387  0.277605 -0.882669  -0.309152  -1.280783\n",
       "2186918 -0.091749  0.277378 -0.882626  -0.309197  -1.279988\n",
       "2186919 -0.091976  0.278258 -0.882799  -0.309194  -1.279585\n",
       "\n",
       "[2186920 rows x 5 columns]"
      ]
     },
     "execution_count": 8,
     "metadata": {},
     "output_type": "execute_result"
    }
   ],
   "source": [
    "from scipy import stats\n",
    "\n",
    "z_scores1= stats.zscore(df_1)\n",
    "z_scores1"
   ]
  },
  {
   "cell_type": "code",
   "execution_count": 9,
   "id": "52073808",
   "metadata": {
    "execution": {
     "iopub.execute_input": "2022-12-20T19:10:02.602096Z",
     "iopub.status.busy": "2022-12-20T19:10:02.600538Z",
     "iopub.status.idle": "2022-12-20T19:10:02.843543Z",
     "shell.execute_reply": "2022-12-20T19:10:02.841805Z"
    },
    "papermill": {
     "duration": 0.258966,
     "end_time": "2022-12-20T19:10:02.848003",
     "exception": false,
     "start_time": "2022-12-20T19:10:02.589037",
     "status": "completed"
    },
    "tags": []
   },
   "outputs": [
    {
     "data": {
      "text/html": [
       "<div>\n",
       "<style scoped>\n",
       "    .dataframe tbody tr th:only-of-type {\n",
       "        vertical-align: middle;\n",
       "    }\n",
       "\n",
       "    .dataframe tbody tr th {\n",
       "        vertical-align: top;\n",
       "    }\n",
       "\n",
       "    .dataframe thead th {\n",
       "        text-align: right;\n",
       "    }\n",
       "</style>\n",
       "<table border=\"1\" class=\"dataframe\">\n",
       "  <thead>\n",
       "    <tr style=\"text-align: right;\">\n",
       "      <th></th>\n",
       "      <th>timestamp</th>\n",
       "      <th>P-PDG</th>\n",
       "      <th>P-TPT</th>\n",
       "      <th>T-TPT</th>\n",
       "      <th>P-MON-CKP</th>\n",
       "      <th>T-JUS-CKP</th>\n",
       "      <th>P-JUS-CKGL</th>\n",
       "      <th>T-JUS-CKGL</th>\n",
       "      <th>QGL</th>\n",
       "      <th>class</th>\n",
       "      <th>N_Simulacao</th>\n",
       "    </tr>\n",
       "  </thead>\n",
       "  <tbody>\n",
       "    <tr>\n",
       "      <th>0</th>\n",
       "      <td>2018-05-18 01:19:03.000000</td>\n",
       "      <td>28305440.0</td>\n",
       "      <td>18799850.0</td>\n",
       "      <td>127.376400</td>\n",
       "      <td>4047862.0</td>\n",
       "      <td>106.70890</td>\n",
       "      <td>NaN</td>\n",
       "      <td>NaN</td>\n",
       "      <td>NaN</td>\n",
       "      <td>0</td>\n",
       "      <td>4</td>\n",
       "    </tr>\n",
       "    <tr>\n",
       "      <th>1</th>\n",
       "      <td>2018-05-18 01:19:04.000000</td>\n",
       "      <td>28305430.0</td>\n",
       "      <td>18799850.0</td>\n",
       "      <td>127.376400</td>\n",
       "      <td>4047862.0</td>\n",
       "      <td>106.70890</td>\n",
       "      <td>NaN</td>\n",
       "      <td>NaN</td>\n",
       "      <td>NaN</td>\n",
       "      <td>0</td>\n",
       "      <td>4</td>\n",
       "    </tr>\n",
       "    <tr>\n",
       "      <th>2</th>\n",
       "      <td>2018-05-18 01:19:05.000000</td>\n",
       "      <td>28305440.0</td>\n",
       "      <td>18799850.0</td>\n",
       "      <td>127.376400</td>\n",
       "      <td>4047862.0</td>\n",
       "      <td>106.70890</td>\n",
       "      <td>NaN</td>\n",
       "      <td>NaN</td>\n",
       "      <td>NaN</td>\n",
       "      <td>0</td>\n",
       "      <td>4</td>\n",
       "    </tr>\n",
       "    <tr>\n",
       "      <th>3</th>\n",
       "      <td>2018-05-18 01:19:06.000000</td>\n",
       "      <td>28305430.0</td>\n",
       "      <td>18799850.0</td>\n",
       "      <td>127.376400</td>\n",
       "      <td>4047862.0</td>\n",
       "      <td>106.70890</td>\n",
       "      <td>NaN</td>\n",
       "      <td>NaN</td>\n",
       "      <td>NaN</td>\n",
       "      <td>0</td>\n",
       "      <td>4</td>\n",
       "    </tr>\n",
       "    <tr>\n",
       "      <th>4</th>\n",
       "      <td>2018-05-18 01:19:07.000000</td>\n",
       "      <td>28305440.0</td>\n",
       "      <td>18799850.0</td>\n",
       "      <td>127.376400</td>\n",
       "      <td>4047862.0</td>\n",
       "      <td>106.70890</td>\n",
       "      <td>NaN</td>\n",
       "      <td>NaN</td>\n",
       "      <td>NaN</td>\n",
       "      <td>0</td>\n",
       "      <td>4</td>\n",
       "    </tr>\n",
       "    <tr>\n",
       "      <th>...</th>\n",
       "      <td>...</td>\n",
       "      <td>...</td>\n",
       "      <td>...</td>\n",
       "      <td>...</td>\n",
       "      <td>...</td>\n",
       "      <td>...</td>\n",
       "      <td>...</td>\n",
       "      <td>...</td>\n",
       "      <td>...</td>\n",
       "      <td>...</td>\n",
       "      <td>...</td>\n",
       "    </tr>\n",
       "    <tr>\n",
       "      <th>2186915</th>\n",
       "      <td>2018-05-19 06:26:15.000000</td>\n",
       "      <td>31169200.0</td>\n",
       "      <td>25976770.0</td>\n",
       "      <td>3.429412</td>\n",
       "      <td>4002708.0</td>\n",
       "      <td>30.61968</td>\n",
       "      <td>NaN</td>\n",
       "      <td>NaN</td>\n",
       "      <td>NaN</td>\n",
       "      <td>8</td>\n",
       "      <td>25</td>\n",
       "    </tr>\n",
       "    <tr>\n",
       "      <th>2186916</th>\n",
       "      <td>2018-05-19 06:26:16.000000</td>\n",
       "      <td>31171450.0</td>\n",
       "      <td>25976280.0</td>\n",
       "      <td>3.430765</td>\n",
       "      <td>4002719.0</td>\n",
       "      <td>30.60952</td>\n",
       "      <td>NaN</td>\n",
       "      <td>NaN</td>\n",
       "      <td>NaN</td>\n",
       "      <td>8</td>\n",
       "      <td>25</td>\n",
       "    </tr>\n",
       "    <tr>\n",
       "      <th>2186917</th>\n",
       "      <td>2018-05-19 06:26:17.000000</td>\n",
       "      <td>31173900.0</td>\n",
       "      <td>25974130.0</td>\n",
       "      <td>3.436925</td>\n",
       "      <td>4002312.0</td>\n",
       "      <td>30.61897</td>\n",
       "      <td>NaN</td>\n",
       "      <td>NaN</td>\n",
       "      <td>NaN</td>\n",
       "      <td>8</td>\n",
       "      <td>25</td>\n",
       "    </tr>\n",
       "    <tr>\n",
       "      <th>2186918</th>\n",
       "      <td>2018-05-19 06:26:18.000000</td>\n",
       "      <td>31175920.0</td>\n",
       "      <td>25973200.0</td>\n",
       "      <td>3.439533</td>\n",
       "      <td>4002236.0</td>\n",
       "      <td>30.64154</td>\n",
       "      <td>NaN</td>\n",
       "      <td>NaN</td>\n",
       "      <td>NaN</td>\n",
       "      <td>8</td>\n",
       "      <td>25</td>\n",
       "    </tr>\n",
       "    <tr>\n",
       "      <th>2186919</th>\n",
       "      <td>2018-05-19 06:26:19.000000</td>\n",
       "      <td>31175200.0</td>\n",
       "      <td>25976800.0</td>\n",
       "      <td>3.429211</td>\n",
       "      <td>4002241.0</td>\n",
       "      <td>30.65300</td>\n",
       "      <td>NaN</td>\n",
       "      <td>NaN</td>\n",
       "      <td>NaN</td>\n",
       "      <td>8</td>\n",
       "      <td>25</td>\n",
       "    </tr>\n",
       "  </tbody>\n",
       "</table>\n",
       "<p>2078924 rows × 11 columns</p>\n",
       "</div>"
      ],
      "text/plain": [
       "                          timestamp       P-PDG       P-TPT       T-TPT  \\\n",
       "0        2018-05-18 01:19:03.000000  28305440.0  18799850.0  127.376400   \n",
       "1        2018-05-18 01:19:04.000000  28305430.0  18799850.0  127.376400   \n",
       "2        2018-05-18 01:19:05.000000  28305440.0  18799850.0  127.376400   \n",
       "3        2018-05-18 01:19:06.000000  28305430.0  18799850.0  127.376400   \n",
       "4        2018-05-18 01:19:07.000000  28305440.0  18799850.0  127.376400   \n",
       "...                             ...         ...         ...         ...   \n",
       "2186915  2018-05-19 06:26:15.000000  31169200.0  25976770.0    3.429412   \n",
       "2186916  2018-05-19 06:26:16.000000  31171450.0  25976280.0    3.430765   \n",
       "2186917  2018-05-19 06:26:17.000000  31173900.0  25974130.0    3.436925   \n",
       "2186918  2018-05-19 06:26:18.000000  31175920.0  25973200.0    3.439533   \n",
       "2186919  2018-05-19 06:26:19.000000  31175200.0  25976800.0    3.429211   \n",
       "\n",
       "         P-MON-CKP  T-JUS-CKP  P-JUS-CKGL  T-JUS-CKGL  QGL  class  N_Simulacao  \n",
       "0        4047862.0  106.70890         NaN         NaN  NaN      0            4  \n",
       "1        4047862.0  106.70890         NaN         NaN  NaN      0            4  \n",
       "2        4047862.0  106.70890         NaN         NaN  NaN      0            4  \n",
       "3        4047862.0  106.70890         NaN         NaN  NaN      0            4  \n",
       "4        4047862.0  106.70890         NaN         NaN  NaN      0            4  \n",
       "...            ...        ...         ...         ...  ...    ...          ...  \n",
       "2186915  4002708.0   30.61968         NaN         NaN  NaN      8           25  \n",
       "2186916  4002719.0   30.60952         NaN         NaN  NaN      8           25  \n",
       "2186917  4002312.0   30.61897         NaN         NaN  NaN      8           25  \n",
       "2186918  4002236.0   30.64154         NaN         NaN  NaN      8           25  \n",
       "2186919  4002241.0   30.65300         NaN         NaN  NaN      8           25  \n",
       "\n",
       "[2078924 rows x 11 columns]"
      ]
     },
     "execution_count": 9,
     "metadata": {},
     "output_type": "execute_result"
    }
   ],
   "source": [
    "# Aplicaremos eliminação dos dados que obtiverem valores de z_scores > 3\n",
    "abs_z_scores1 = abs(z_scores1)\n",
    "filtered_entries = (abs_z_scores1 < 3).all(axis=1)\n",
    "dados_simulados = dados_simulados[filtered_entries]\n",
    "dados_simulados"
   ]
  },
  {
   "cell_type": "code",
   "execution_count": 10,
   "id": "3fe6b7c8",
   "metadata": {
    "execution": {
     "iopub.execute_input": "2022-12-20T19:10:02.903288Z",
     "iopub.status.busy": "2022-12-20T19:10:02.902796Z",
     "iopub.status.idle": "2022-12-20T19:10:02.959459Z",
     "shell.execute_reply": "2022-12-20T19:10:02.958068Z"
    },
    "papermill": {
     "duration": 0.080003,
     "end_time": "2022-12-20T19:10:02.962384",
     "exception": false,
     "start_time": "2022-12-20T19:10:02.882381",
     "status": "completed"
    },
    "tags": []
   },
   "outputs": [
    {
     "data": {
      "text/html": [
       "<div>\n",
       "<style scoped>\n",
       "    .dataframe tbody tr th:only-of-type {\n",
       "        vertical-align: middle;\n",
       "    }\n",
       "\n",
       "    .dataframe tbody tr th {\n",
       "        vertical-align: top;\n",
       "    }\n",
       "\n",
       "    .dataframe thead th {\n",
       "        text-align: right;\n",
       "    }\n",
       "</style>\n",
       "<table border=\"1\" class=\"dataframe\">\n",
       "  <thead>\n",
       "    <tr style=\"text-align: right;\">\n",
       "      <th></th>\n",
       "      <th>P-PDG</th>\n",
       "      <th>P-TPT</th>\n",
       "      <th>T-TPT</th>\n",
       "      <th>P-MON-CKP</th>\n",
       "      <th>P-JUS-CKGL</th>\n",
       "      <th>QGL</th>\n",
       "    </tr>\n",
       "  </thead>\n",
       "  <tbody>\n",
       "    <tr>\n",
       "      <th>0</th>\n",
       "      <td>0.680342</td>\n",
       "      <td>0.083325</td>\n",
       "      <td>4.732996</td>\n",
       "      <td>-0.065027</td>\n",
       "      <td>-0.834462</td>\n",
       "      <td>1.270921</td>\n",
       "    </tr>\n",
       "    <tr>\n",
       "      <th>1</th>\n",
       "      <td>0.680357</td>\n",
       "      <td>0.083130</td>\n",
       "      <td>4.735381</td>\n",
       "      <td>-0.067530</td>\n",
       "      <td>-0.834352</td>\n",
       "      <td>1.271121</td>\n",
       "    </tr>\n",
       "    <tr>\n",
       "      <th>2</th>\n",
       "      <td>0.680371</td>\n",
       "      <td>0.082934</td>\n",
       "      <td>4.737766</td>\n",
       "      <td>-0.070033</td>\n",
       "      <td>-0.834242</td>\n",
       "      <td>1.271321</td>\n",
       "    </tr>\n",
       "    <tr>\n",
       "      <th>3</th>\n",
       "      <td>0.680385</td>\n",
       "      <td>0.082738</td>\n",
       "      <td>4.740151</td>\n",
       "      <td>-0.072538</td>\n",
       "      <td>-0.834132</td>\n",
       "      <td>1.271521</td>\n",
       "    </tr>\n",
       "    <tr>\n",
       "      <th>4</th>\n",
       "      <td>0.680400</td>\n",
       "      <td>0.082543</td>\n",
       "      <td>4.742537</td>\n",
       "      <td>-0.075041</td>\n",
       "      <td>-0.834023</td>\n",
       "      <td>1.271721</td>\n",
       "    </tr>\n",
       "    <tr>\n",
       "      <th>...</th>\n",
       "      <td>...</td>\n",
       "      <td>...</td>\n",
       "      <td>...</td>\n",
       "      <td>...</td>\n",
       "      <td>...</td>\n",
       "      <td>...</td>\n",
       "    </tr>\n",
       "    <tr>\n",
       "      <th>91086</th>\n",
       "      <td>-0.866127</td>\n",
       "      <td>-0.835377</td>\n",
       "      <td>-0.661243</td>\n",
       "      <td>-0.915145</td>\n",
       "      <td>0.838578</td>\n",
       "      <td>-0.933422</td>\n",
       "    </tr>\n",
       "    <tr>\n",
       "      <th>91087</th>\n",
       "      <td>-0.866127</td>\n",
       "      <td>-0.835377</td>\n",
       "      <td>-0.661243</td>\n",
       "      <td>-0.915077</td>\n",
       "      <td>0.838377</td>\n",
       "      <td>-0.933422</td>\n",
       "    </tr>\n",
       "    <tr>\n",
       "      <th>91088</th>\n",
       "      <td>-0.866127</td>\n",
       "      <td>-0.835377</td>\n",
       "      <td>-0.661243</td>\n",
       "      <td>-0.915009</td>\n",
       "      <td>0.838177</td>\n",
       "      <td>-0.933422</td>\n",
       "    </tr>\n",
       "    <tr>\n",
       "      <th>91089</th>\n",
       "      <td>-0.866127</td>\n",
       "      <td>-0.835377</td>\n",
       "      <td>-0.661243</td>\n",
       "      <td>-0.914942</td>\n",
       "      <td>0.837976</td>\n",
       "      <td>-0.933422</td>\n",
       "    </tr>\n",
       "    <tr>\n",
       "      <th>91090</th>\n",
       "      <td>-0.866127</td>\n",
       "      <td>-0.835377</td>\n",
       "      <td>-0.661243</td>\n",
       "      <td>-0.914874</td>\n",
       "      <td>0.837776</td>\n",
       "      <td>-0.933422</td>\n",
       "    </tr>\n",
       "  </tbody>\n",
       "</table>\n",
       "<p>91091 rows × 6 columns</p>\n",
       "</div>"
      ],
      "text/plain": [
       "          P-PDG     P-TPT     T-TPT  P-MON-CKP  P-JUS-CKGL       QGL\n",
       "0      0.680342  0.083325  4.732996  -0.065027   -0.834462  1.270921\n",
       "1      0.680357  0.083130  4.735381  -0.067530   -0.834352  1.271121\n",
       "2      0.680371  0.082934  4.737766  -0.070033   -0.834242  1.271321\n",
       "3      0.680385  0.082738  4.740151  -0.072538   -0.834132  1.271521\n",
       "4      0.680400  0.082543  4.742537  -0.075041   -0.834023  1.271721\n",
       "...         ...       ...       ...        ...         ...       ...\n",
       "91086 -0.866127 -0.835377 -0.661243  -0.915145    0.838578 -0.933422\n",
       "91087 -0.866127 -0.835377 -0.661243  -0.915077    0.838377 -0.933422\n",
       "91088 -0.866127 -0.835377 -0.661243  -0.915009    0.838177 -0.933422\n",
       "91089 -0.866127 -0.835377 -0.661243  -0.914942    0.837976 -0.933422\n",
       "91090 -0.866127 -0.835377 -0.661243  -0.914874    0.837776 -0.933422\n",
       "\n",
       "[91091 rows x 6 columns]"
      ]
     },
     "execution_count": 10,
     "metadata": {},
     "output_type": "execute_result"
    }
   ],
   "source": [
    "z_scores2= stats.zscore(df_2)\n",
    "z_scores2"
   ]
  },
  {
   "cell_type": "code",
   "execution_count": 11,
   "id": "0ee319ed",
   "metadata": {
    "execution": {
     "iopub.execute_input": "2022-12-20T19:10:03.001029Z",
     "iopub.status.busy": "2022-12-20T19:10:03.000462Z",
     "iopub.status.idle": "2022-12-20T19:10:03.047701Z",
     "shell.execute_reply": "2022-12-20T19:10:03.046424Z"
    },
    "papermill": {
     "duration": 0.067825,
     "end_time": "2022-12-20T19:10:03.049933",
     "exception": false,
     "start_time": "2022-12-20T19:10:02.982108",
     "status": "completed"
    },
    "tags": []
   },
   "outputs": [
    {
     "data": {
      "text/html": [
       "<div>\n",
       "<style scoped>\n",
       "    .dataframe tbody tr th:only-of-type {\n",
       "        vertical-align: middle;\n",
       "    }\n",
       "\n",
       "    .dataframe tbody tr th {\n",
       "        vertical-align: top;\n",
       "    }\n",
       "\n",
       "    .dataframe thead th {\n",
       "        text-align: right;\n",
       "    }\n",
       "</style>\n",
       "<table border=\"1\" class=\"dataframe\">\n",
       "  <thead>\n",
       "    <tr style=\"text-align: right;\">\n",
       "      <th></th>\n",
       "      <th>timestamp</th>\n",
       "      <th>P-PDG</th>\n",
       "      <th>P-TPT</th>\n",
       "      <th>T-TPT</th>\n",
       "      <th>P-MON-CKP</th>\n",
       "      <th>T-JUS-CKP</th>\n",
       "      <th>P-JUS-CKGL</th>\n",
       "      <th>T-JUS-CKGL</th>\n",
       "      <th>QGL</th>\n",
       "      <th>class</th>\n",
       "      <th>Inst_real</th>\n",
       "    </tr>\n",
       "  </thead>\n",
       "  <tbody>\n",
       "    <tr>\n",
       "      <th>1845</th>\n",
       "      <td>2012-04-10 19:54:11.000000</td>\n",
       "      <td>2.193883e+09</td>\n",
       "      <td>1.131335e+09</td>\n",
       "      <td>40.19960</td>\n",
       "      <td>2333554.0</td>\n",
       "      <td>NaN</td>\n",
       "      <td>1.552505e+09</td>\n",
       "      <td>NaN</td>\n",
       "      <td>5.513926e-02</td>\n",
       "      <td>108.0</td>\n",
       "      <td>20</td>\n",
       "    </tr>\n",
       "    <tr>\n",
       "      <th>1846</th>\n",
       "      <td>2012-04-10 19:54:12.000000</td>\n",
       "      <td>2.193903e+09</td>\n",
       "      <td>1.131445e+09</td>\n",
       "      <td>40.17549</td>\n",
       "      <td>2336637.0</td>\n",
       "      <td>NaN</td>\n",
       "      <td>1.552529e+09</td>\n",
       "      <td>NaN</td>\n",
       "      <td>5.514189e-02</td>\n",
       "      <td>108.0</td>\n",
       "      <td>20</td>\n",
       "    </tr>\n",
       "    <tr>\n",
       "      <th>1847</th>\n",
       "      <td>2012-04-10 19:54:13.000000</td>\n",
       "      <td>2.193923e+09</td>\n",
       "      <td>1.131554e+09</td>\n",
       "      <td>40.15137</td>\n",
       "      <td>2339720.0</td>\n",
       "      <td>NaN</td>\n",
       "      <td>1.552553e+09</td>\n",
       "      <td>NaN</td>\n",
       "      <td>5.514453e-02</td>\n",
       "      <td>108.0</td>\n",
       "      <td>20</td>\n",
       "    </tr>\n",
       "    <tr>\n",
       "      <th>1848</th>\n",
       "      <td>2012-04-10 19:54:14.000000</td>\n",
       "      <td>2.193943e+09</td>\n",
       "      <td>1.131664e+09</td>\n",
       "      <td>40.12726</td>\n",
       "      <td>2342804.0</td>\n",
       "      <td>NaN</td>\n",
       "      <td>1.552577e+09</td>\n",
       "      <td>NaN</td>\n",
       "      <td>5.514716e-02</td>\n",
       "      <td>108.0</td>\n",
       "      <td>20</td>\n",
       "    </tr>\n",
       "    <tr>\n",
       "      <th>1849</th>\n",
       "      <td>2012-04-10 19:54:15.000000</td>\n",
       "      <td>2.193963e+09</td>\n",
       "      <td>1.131774e+09</td>\n",
       "      <td>40.10314</td>\n",
       "      <td>2345887.0</td>\n",
       "      <td>NaN</td>\n",
       "      <td>1.552601e+09</td>\n",
       "      <td>NaN</td>\n",
       "      <td>5.514980e-02</td>\n",
       "      <td>108.0</td>\n",
       "      <td>20</td>\n",
       "    </tr>\n",
       "    <tr>\n",
       "      <th>...</th>\n",
       "      <td>...</td>\n",
       "      <td>...</td>\n",
       "      <td>...</td>\n",
       "      <td>...</td>\n",
       "      <td>...</td>\n",
       "      <td>...</td>\n",
       "      <td>...</td>\n",
       "      <td>...</td>\n",
       "      <td>...</td>\n",
       "      <td>...</td>\n",
       "      <td>...</td>\n",
       "    </tr>\n",
       "    <tr>\n",
       "      <th>91086</th>\n",
       "      <td>2017-03-02 08:36:31.000000</td>\n",
       "      <td>0.000000e+00</td>\n",
       "      <td>0.000000e+00</td>\n",
       "      <td>0.00000</td>\n",
       "      <td>949673.2</td>\n",
       "      <td>NaN</td>\n",
       "      <td>1.810617e+09</td>\n",
       "      <td>NaN</td>\n",
       "      <td>3.738686e-22</td>\n",
       "      <td>8.0</td>\n",
       "      <td>19</td>\n",
       "    </tr>\n",
       "    <tr>\n",
       "      <th>91087</th>\n",
       "      <td>2017-03-02 08:36:32.000000</td>\n",
       "      <td>0.000000e+00</td>\n",
       "      <td>0.000000e+00</td>\n",
       "      <td>0.00000</td>\n",
       "      <td>949727.0</td>\n",
       "      <td>NaN</td>\n",
       "      <td>1.810586e+09</td>\n",
       "      <td>NaN</td>\n",
       "      <td>3.738686e-22</td>\n",
       "      <td>8.0</td>\n",
       "      <td>19</td>\n",
       "    </tr>\n",
       "    <tr>\n",
       "      <th>91088</th>\n",
       "      <td>2017-03-02 08:36:33.000000</td>\n",
       "      <td>0.000000e+00</td>\n",
       "      <td>0.000000e+00</td>\n",
       "      <td>0.00000</td>\n",
       "      <td>949780.8</td>\n",
       "      <td>NaN</td>\n",
       "      <td>1.810555e+09</td>\n",
       "      <td>NaN</td>\n",
       "      <td>3.738686e-22</td>\n",
       "      <td>8.0</td>\n",
       "      <td>19</td>\n",
       "    </tr>\n",
       "    <tr>\n",
       "      <th>91089</th>\n",
       "      <td>2017-03-02 08:36:34.000000</td>\n",
       "      <td>0.000000e+00</td>\n",
       "      <td>0.000000e+00</td>\n",
       "      <td>0.00000</td>\n",
       "      <td>949834.5</td>\n",
       "      <td>NaN</td>\n",
       "      <td>1.810524e+09</td>\n",
       "      <td>NaN</td>\n",
       "      <td>3.738686e-22</td>\n",
       "      <td>8.0</td>\n",
       "      <td>19</td>\n",
       "    </tr>\n",
       "    <tr>\n",
       "      <th>91090</th>\n",
       "      <td>2017-03-02 08:36:35.000000</td>\n",
       "      <td>0.000000e+00</td>\n",
       "      <td>0.000000e+00</td>\n",
       "      <td>0.00000</td>\n",
       "      <td>949888.3</td>\n",
       "      <td>NaN</td>\n",
       "      <td>1.810493e+09</td>\n",
       "      <td>NaN</td>\n",
       "      <td>3.738686e-22</td>\n",
       "      <td>8.0</td>\n",
       "      <td>19</td>\n",
       "    </tr>\n",
       "  </tbody>\n",
       "</table>\n",
       "<p>89246 rows × 11 columns</p>\n",
       "</div>"
      ],
      "text/plain": [
       "                        timestamp         P-PDG         P-TPT     T-TPT  \\\n",
       "1845   2012-04-10 19:54:11.000000  2.193883e+09  1.131335e+09  40.19960   \n",
       "1846   2012-04-10 19:54:12.000000  2.193903e+09  1.131445e+09  40.17549   \n",
       "1847   2012-04-10 19:54:13.000000  2.193923e+09  1.131554e+09  40.15137   \n",
       "1848   2012-04-10 19:54:14.000000  2.193943e+09  1.131664e+09  40.12726   \n",
       "1849   2012-04-10 19:54:15.000000  2.193963e+09  1.131774e+09  40.10314   \n",
       "...                           ...           ...           ...       ...   \n",
       "91086  2017-03-02 08:36:31.000000  0.000000e+00  0.000000e+00   0.00000   \n",
       "91087  2017-03-02 08:36:32.000000  0.000000e+00  0.000000e+00   0.00000   \n",
       "91088  2017-03-02 08:36:33.000000  0.000000e+00  0.000000e+00   0.00000   \n",
       "91089  2017-03-02 08:36:34.000000  0.000000e+00  0.000000e+00   0.00000   \n",
       "91090  2017-03-02 08:36:35.000000  0.000000e+00  0.000000e+00   0.00000   \n",
       "\n",
       "       P-MON-CKP  T-JUS-CKP    P-JUS-CKGL  T-JUS-CKGL           QGL  class  \\\n",
       "1845   2333554.0        NaN  1.552505e+09         NaN  5.513926e-02  108.0   \n",
       "1846   2336637.0        NaN  1.552529e+09         NaN  5.514189e-02  108.0   \n",
       "1847   2339720.0        NaN  1.552553e+09         NaN  5.514453e-02  108.0   \n",
       "1848   2342804.0        NaN  1.552577e+09         NaN  5.514716e-02  108.0   \n",
       "1849   2345887.0        NaN  1.552601e+09         NaN  5.514980e-02  108.0   \n",
       "...          ...        ...           ...         ...           ...    ...   \n",
       "91086   949673.2        NaN  1.810617e+09         NaN  3.738686e-22    8.0   \n",
       "91087   949727.0        NaN  1.810586e+09         NaN  3.738686e-22    8.0   \n",
       "91088   949780.8        NaN  1.810555e+09         NaN  3.738686e-22    8.0   \n",
       "91089   949834.5        NaN  1.810524e+09         NaN  3.738686e-22    8.0   \n",
       "91090   949888.3        NaN  1.810493e+09         NaN  3.738686e-22    8.0   \n",
       "\n",
       "       Inst_real  \n",
       "1845          20  \n",
       "1846          20  \n",
       "1847          20  \n",
       "1848          20  \n",
       "1849          20  \n",
       "...          ...  \n",
       "91086         19  \n",
       "91087         19  \n",
       "91088         19  \n",
       "91089         19  \n",
       "91090         19  \n",
       "\n",
       "[89246 rows x 11 columns]"
      ]
     },
     "execution_count": 11,
     "metadata": {},
     "output_type": "execute_result"
    }
   ],
   "source": [
    "# Aplicaremos eliminação dos dados que obtiverem valores de z_scores > 3\n",
    "abs_z_scores2 = abs(z_scores2)\n",
    "filtered_entries = (abs_z_scores2 < 3).all(axis=1)\n",
    "dados_reais = dados_reais[filtered_entries]\n",
    "dados_reais"
   ]
  },
  {
   "cell_type": "markdown",
   "id": "355ec581",
   "metadata": {
    "papermill": {
     "duration": 0.016023,
     "end_time": "2022-12-20T19:10:03.082941",
     "exception": false,
     "start_time": "2022-12-20T19:10:03.066918",
     "status": "completed"
    },
    "tags": []
   },
   "source": [
    "### Excluindo colunas com dados *NaN*"
   ]
  },
  {
   "cell_type": "code",
   "execution_count": 12,
   "id": "86b269ef",
   "metadata": {
    "execution": {
     "iopub.execute_input": "2022-12-20T19:10:03.116144Z",
     "iopub.status.busy": "2022-12-20T19:10:03.115851Z",
     "iopub.status.idle": "2022-12-20T19:10:03.247334Z",
     "shell.execute_reply": "2022-12-20T19:10:03.246142Z"
    },
    "papermill": {
     "duration": 0.15093,
     "end_time": "2022-12-20T19:10:03.249908",
     "exception": false,
     "start_time": "2022-12-20T19:10:03.098978",
     "status": "completed"
    },
    "tags": []
   },
   "outputs": [
    {
     "data": {
      "text/plain": [
       "P-PDG          0\n",
       "P-TPT          0\n",
       "T-TPT          0\n",
       "P-MON-CKP      0\n",
       "T-JUS-CKP      0\n",
       "class          0\n",
       "N_Simulacao    0\n",
       "dtype: int64"
      ]
     },
     "execution_count": 12,
     "metadata": {},
     "output_type": "execute_result"
    }
   ],
   "source": [
    "dados_simulados.drop(['timestamp', 'P-JUS-CKGL',\t'T-JUS-CKGL',\t'QGL'], axis=1, inplace=True)\n",
    "dados_simulados.isna().sum()"
   ]
  },
  {
   "cell_type": "code",
   "execution_count": 13,
   "id": "9bca7137",
   "metadata": {
    "execution": {
     "iopub.execute_input": "2022-12-20T19:10:03.282291Z",
     "iopub.status.busy": "2022-12-20T19:10:03.281984Z",
     "iopub.status.idle": "2022-12-20T19:10:03.303830Z",
     "shell.execute_reply": "2022-12-20T19:10:03.302859Z"
    },
    "papermill": {
     "duration": 0.040357,
     "end_time": "2022-12-20T19:10:03.306080",
     "exception": false,
     "start_time": "2022-12-20T19:10:03.265723",
     "status": "completed"
    },
    "tags": []
   },
   "outputs": [
    {
     "data": {
      "text/plain": [
       "P-PDG           0\n",
       "P-TPT           0\n",
       "T-TPT           0\n",
       "P-MON-CKP       0\n",
       "P-JUS-CKGL      0\n",
       "QGL             0\n",
       "class         193\n",
       "Inst_real       0\n",
       "dtype: int64"
      ]
     },
     "execution_count": 13,
     "metadata": {},
     "output_type": "execute_result"
    }
   ],
   "source": [
    "dados_reais.drop(['timestamp', 'T-JUS-CKP', 'T-JUS-CKGL'], axis=1, inplace=True)\n",
    "dados_reais.dropna()\n",
    "dados_reais.isna().sum()"
   ]
  },
  {
   "cell_type": "markdown",
   "id": "25f1edfc",
   "metadata": {
    "papermill": {
     "duration": 0.016037,
     "end_time": "2022-12-20T19:10:03.339259",
     "exception": false,
     "start_time": "2022-12-20T19:10:03.323222",
     "status": "completed"
    },
    "tags": []
   },
   "source": [
    "# Preparando dados para treinamento dos modelos"
   ]
  },
  {
   "cell_type": "markdown",
   "id": "1d66bc7a",
   "metadata": {
    "papermill": {
     "duration": 0.015418,
     "end_time": "2022-12-20T19:10:03.370644",
     "exception": false,
     "start_time": "2022-12-20T19:10:03.355226",
     "status": "completed"
    },
    "tags": []
   },
   "source": [
    "Utilizaremos apenas os dados SIMULADOS para construção dos modelos"
   ]
  },
  {
   "cell_type": "markdown",
   "id": "79be8581",
   "metadata": {
    "papermill": {
     "duration": 0.015938,
     "end_time": "2022-12-20T19:10:03.402235",
     "exception": false,
     "start_time": "2022-12-20T19:10:03.386297",
     "status": "completed"
    },
    "tags": []
   },
   "source": [
    "### Separando banco de dados para treinamento e teste"
   ]
  },
  {
   "cell_type": "code",
   "execution_count": 14,
   "id": "d8819608",
   "metadata": {
    "execution": {
     "iopub.execute_input": "2022-12-20T19:10:03.443208Z",
     "iopub.status.busy": "2022-12-20T19:10:03.442886Z",
     "iopub.status.idle": "2022-12-20T19:10:03.479624Z",
     "shell.execute_reply": "2022-12-20T19:10:03.478443Z"
    },
    "papermill": {
     "duration": 0.061165,
     "end_time": "2022-12-20T19:10:03.481869",
     "exception": false,
     "start_time": "2022-12-20T19:10:03.420704",
     "status": "completed"
    },
    "tags": []
   },
   "outputs": [],
   "source": [
    "X = dados_simulados.iloc[:,:-2]\n",
    "y = dados_simulados.iloc[:,-2]"
   ]
  },
  {
   "cell_type": "code",
   "execution_count": 15,
   "id": "df667d68",
   "metadata": {
    "execution": {
     "iopub.execute_input": "2022-12-20T19:10:03.508142Z",
     "iopub.status.busy": "2022-12-20T19:10:03.507809Z",
     "iopub.status.idle": "2022-12-20T19:10:04.096491Z",
     "shell.execute_reply": "2022-12-20T19:10:04.095441Z"
    },
    "papermill": {
     "duration": 0.604486,
     "end_time": "2022-12-20T19:10:04.099238",
     "exception": false,
     "start_time": "2022-12-20T19:10:03.494752",
     "status": "completed"
    },
    "tags": []
   },
   "outputs": [],
   "source": [
    "from sklearn.model_selection import train_test_split\n",
    "X_train, X_test, y_train, y_test = train_test_split(X, y, test_size = 0.3, random_state = 42, shuffle = True)"
   ]
  },
  {
   "cell_type": "markdown",
   "id": "520ab69a",
   "metadata": {
    "papermill": {
     "duration": 0.011031,
     "end_time": "2022-12-20T19:10:04.121523",
     "exception": false,
     "start_time": "2022-12-20T19:10:04.110492",
     "status": "completed"
    },
    "tags": []
   },
   "source": [
    "### Padronização dos dados"
   ]
  },
  {
   "cell_type": "code",
   "execution_count": 16,
   "id": "5ea1c568",
   "metadata": {
    "execution": {
     "iopub.execute_input": "2022-12-20T19:10:04.144472Z",
     "iopub.status.busy": "2022-12-20T19:10:04.144119Z",
     "iopub.status.idle": "2022-12-20T19:10:04.276565Z",
     "shell.execute_reply": "2022-12-20T19:10:04.275481Z"
    },
    "papermill": {
     "duration": 0.146834,
     "end_time": "2022-12-20T19:10:04.279151",
     "exception": false,
     "start_time": "2022-12-20T19:10:04.132317",
     "status": "completed"
    },
    "tags": []
   },
   "outputs": [],
   "source": [
    "from sklearn.preprocessing import StandardScaler\n",
    "std = StandardScaler()\n",
    "X_train = std.fit_transform(X_train)\n",
    "X_test = std.fit_transform(X_test)"
   ]
  },
  {
   "cell_type": "markdown",
   "id": "79240bf4",
   "metadata": {
    "papermill": {
     "duration": 0.010426,
     "end_time": "2022-12-20T19:10:04.300492",
     "exception": false,
     "start_time": "2022-12-20T19:10:04.290066",
     "status": "completed"
    },
    "tags": []
   },
   "source": [
    "### Reduzindo a dimensionalidade dos dados utilizando a técnica de PCA (*Principal Component Analysis*)"
   ]
  },
  {
   "cell_type": "code",
   "execution_count": 17,
   "id": "abdad613",
   "metadata": {
    "execution": {
     "iopub.execute_input": "2022-12-20T19:10:04.323260Z",
     "iopub.status.busy": "2022-12-20T19:10:04.322339Z",
     "iopub.status.idle": "2022-12-20T19:10:07.322330Z",
     "shell.execute_reply": "2022-12-20T19:10:07.321189Z"
    },
    "papermill": {
     "duration": 3.015082,
     "end_time": "2022-12-20T19:10:07.325965",
     "exception": false,
     "start_time": "2022-12-20T19:10:04.310883",
     "status": "completed"
    },
    "tags": []
   },
   "outputs": [
    {
     "data": {
      "text/plain": [
       "PCA(n_components=2)"
      ]
     },
     "execution_count": 17,
     "metadata": {},
     "output_type": "execute_result"
    }
   ],
   "source": [
    "from sklearn.decomposition import PCA\n",
    "pca = PCA(n_components = 2)\n",
    "pca.fit(X_train)\n",
    "pca.fit(X_test)"
   ]
  },
  {
   "cell_type": "code",
   "execution_count": 18,
   "id": "35b178b1",
   "metadata": {
    "execution": {
     "iopub.execute_input": "2022-12-20T19:10:07.386372Z",
     "iopub.status.busy": "2022-12-20T19:10:07.385916Z",
     "iopub.status.idle": "2022-12-20T19:10:07.391920Z",
     "shell.execute_reply": "2022-12-20T19:10:07.390685Z"
    },
    "papermill": {
     "duration": 0.040072,
     "end_time": "2022-12-20T19:10:07.396624",
     "exception": false,
     "start_time": "2022-12-20T19:10:07.356552",
     "status": "completed"
    },
    "tags": []
   },
   "outputs": [
    {
     "name": "stdout",
     "output_type": "stream",
     "text": [
      "Componentes principais:\n",
      "[[ 0.49045958  0.5177313  -0.50751105  0.00896792 -0.483483  ]\n",
      " [ 0.01111549  0.00466542  0.03624945  0.9992648  -0.00324425]]\n",
      "\n",
      "Variâncias explicadas:\n",
      "[3.55252635 1.00099388]\n"
     ]
    }
   ],
   "source": [
    "print(\"Componentes principais:\")\n",
    "print(pca.components_)\n",
    "\n",
    "print(\"\\nVariâncias explicadas:\")\n",
    "print(pca.explained_variance_)"
   ]
  },
  {
   "cell_type": "markdown",
   "id": "51b1e316",
   "metadata": {
    "papermill": {
     "duration": 0.01035,
     "end_time": "2022-12-20T19:10:07.419143",
     "exception": false,
     "start_time": "2022-12-20T19:10:07.408793",
     "status": "completed"
    },
    "tags": []
   },
   "source": [
    "Percebe-se que o primeiro componente principal consegue explicar uma parcela muito maior da variância dos dados do que o segundo componente principal."
   ]
  },
  {
   "cell_type": "code",
   "execution_count": 19,
   "id": "92890863",
   "metadata": {
    "execution": {
     "iopub.execute_input": "2022-12-20T19:10:07.441262Z",
     "iopub.status.busy": "2022-12-20T19:10:07.440976Z",
     "iopub.status.idle": "2022-12-20T19:10:07.508146Z",
     "shell.execute_reply": "2022-12-20T19:10:07.506671Z"
    },
    "papermill": {
     "duration": 0.082247,
     "end_time": "2022-12-20T19:10:07.511951",
     "exception": false,
     "start_time": "2022-12-20T19:10:07.429704",
     "status": "completed"
    },
    "tags": []
   },
   "outputs": [],
   "source": [
    "X_train = pca.transform(X_train)\n",
    "X_test = pca.transform(X_test)"
   ]
  },
  {
   "cell_type": "code",
   "execution_count": 20,
   "id": "5978c928",
   "metadata": {
    "execution": {
     "iopub.execute_input": "2022-12-20T19:10:07.569306Z",
     "iopub.status.busy": "2022-12-20T19:10:07.568667Z",
     "iopub.status.idle": "2022-12-20T19:10:07.580201Z",
     "shell.execute_reply": "2022-12-20T19:10:07.578978Z"
    },
    "papermill": {
     "duration": 0.04415,
     "end_time": "2022-12-20T19:10:07.584026",
     "exception": false,
     "start_time": "2022-12-20T19:10:07.539876",
     "status": "completed"
    },
    "tags": []
   },
   "outputs": [
    {
     "data": {
      "text/plain": [
       "(1455246, 2)"
      ]
     },
     "execution_count": 20,
     "metadata": {},
     "output_type": "execute_result"
    }
   ],
   "source": [
    "X_train.shape"
   ]
  },
  {
   "cell_type": "code",
   "execution_count": 21,
   "id": "aadefa8f",
   "metadata": {
    "execution": {
     "iopub.execute_input": "2022-12-20T19:10:07.640185Z",
     "iopub.status.busy": "2022-12-20T19:10:07.639907Z",
     "iopub.status.idle": "2022-12-20T19:10:07.645392Z",
     "shell.execute_reply": "2022-12-20T19:10:07.644463Z"
    },
    "papermill": {
     "duration": 0.035402,
     "end_time": "2022-12-20T19:10:07.647347",
     "exception": false,
     "start_time": "2022-12-20T19:10:07.611945",
     "status": "completed"
    },
    "tags": []
   },
   "outputs": [
    {
     "data": {
      "text/plain": [
       "(623678, 2)"
      ]
     },
     "execution_count": 21,
     "metadata": {},
     "output_type": "execute_result"
    }
   ],
   "source": [
    "X_test.shape"
   ]
  },
  {
   "cell_type": "markdown",
   "id": "de369dc7",
   "metadata": {
    "papermill": {
     "duration": 0.01127,
     "end_time": "2022-12-20T19:10:07.670113",
     "exception": false,
     "start_time": "2022-12-20T19:10:07.658843",
     "status": "completed"
    },
    "tags": []
   },
   "source": [
    "# Desenvolvimento dos modelos"
   ]
  },
  {
   "cell_type": "markdown",
   "id": "4c6e9507",
   "metadata": {
    "papermill": {
     "duration": 0.011233,
     "end_time": "2022-12-20T19:10:07.693038",
     "exception": false,
     "start_time": "2022-12-20T19:10:07.681805",
     "status": "completed"
    },
    "tags": []
   },
   "source": [
    "### Modelo de Florestas Aleatórias"
   ]
  },
  {
   "cell_type": "code",
   "execution_count": 22,
   "id": "ee2d46c3",
   "metadata": {
    "execution": {
     "iopub.execute_input": "2022-12-20T19:10:07.717605Z",
     "iopub.status.busy": "2022-12-20T19:10:07.716781Z",
     "iopub.status.idle": "2022-12-20T19:12:55.897820Z",
     "shell.execute_reply": "2022-12-20T19:12:55.896840Z"
    },
    "papermill": {
     "duration": 168.207473,
     "end_time": "2022-12-20T19:12:55.911992",
     "exception": false,
     "start_time": "2022-12-20T19:10:07.704519",
     "status": "completed"
    },
    "tags": []
   },
   "outputs": [
    {
     "name": "stdout",
     "output_type": "stream",
     "text": [
      "CPU times: user 2min 46s, sys: 315 ms, total: 2min 47s\n",
      "Wall time: 2min 48s\n"
     ]
    },
    {
     "data": {
      "text/plain": [
       "RandomForestClassifier(criterion='entropy', n_estimators=50, random_state=42)"
      ]
     },
     "execution_count": 22,
     "metadata": {},
     "output_type": "execute_result"
    }
   ],
   "source": [
    "%%time\n",
    "from sklearn.ensemble import RandomForestClassifier\n",
    "classificador = RandomForestClassifier(n_estimators = 50, criterion= 'entropy', random_state = 42)\n",
    "classificador.fit(X_train, y_train)"
   ]
  },
  {
   "cell_type": "code",
   "execution_count": 23,
   "id": "3d4fc262",
   "metadata": {
    "execution": {
     "iopub.execute_input": "2022-12-20T19:12:55.937646Z",
     "iopub.status.busy": "2022-12-20T19:12:55.937307Z",
     "iopub.status.idle": "2022-12-20T19:12:59.980570Z",
     "shell.execute_reply": "2022-12-20T19:12:59.978453Z"
    },
    "papermill": {
     "duration": 4.058777,
     "end_time": "2022-12-20T19:12:59.982795",
     "exception": false,
     "start_time": "2022-12-20T19:12:55.924018",
     "status": "completed"
    },
    "tags": []
   },
   "outputs": [
    {
     "name": "stdout",
     "output_type": "stream",
     "text": [
      "[[ 13978      0  27785]\n",
      " [     0  76958  95163]\n",
      " [  5577   5907 398310]]\n"
     ]
    }
   ],
   "source": [
    "from sklearn.metrics import confusion_matrix, accuracy_score\n",
    "y_pred = classificador.predict(X_test)\n",
    "cm = confusion_matrix(y_test, y_pred)\n",
    "print(cm)"
   ]
  },
  {
   "cell_type": "code",
   "execution_count": 24,
   "id": "cdc5b0fc",
   "metadata": {
    "execution": {
     "iopub.execute_input": "2022-12-20T19:13:00.007857Z",
     "iopub.status.busy": "2022-12-20T19:13:00.007529Z",
     "iopub.status.idle": "2022-12-20T19:13:08.677557Z",
     "shell.execute_reply": "2022-12-20T19:13:08.676601Z"
    },
    "papermill": {
     "duration": 8.685502,
     "end_time": "2022-12-20T19:13:08.680368",
     "exception": false,
     "start_time": "2022-12-20T19:12:59.994866",
     "status": "completed"
    },
    "tags": []
   },
   "outputs": [
    {
     "name": "stdout",
     "output_type": "stream",
     "text": [
      "Matriz de confusão sem normalização\n",
      "[[ 13978      0  27785]\n",
      " [     0  76958  95163]\n",
      " [  5577   5907 398310]]\n",
      "Matriz de confusão normalizada\n",
      "[[0.33469818 0.         0.66530182]\n",
      " [0.         0.44711569 0.55288431]\n",
      " [0.01360928 0.01441456 0.97197616]]\n"
     ]
    },
    {
     "data": {
      "image/png": "[encoded data removed]",
      "text/plain": [
       "<Figure size 432x288 with 2 Axes>"
      ]
     },
     "metadata": {},
     "output_type": "display_data"
    },
    {
     "data": {
      "image/png": "[encoded data removed]",
      "text/plain": [
       "<Figure size 432x288 with 2 Axes>"
      ]
     },
     "metadata": {},
     "output_type": "display_data"
    }
   ],
   "source": [
    "from sklearn.metrics import ConfusionMatrixDisplay\n",
    "\n",
    "titles_options = [\n",
    "    (\"Matriz de confusão sem normalização\", None),\n",
    "    (\"Matriz de confusão normalizada\", \"true\"),\n",
    "]\n",
    "for title, normalize in titles_options:\n",
    "    disp = ConfusionMatrixDisplay.from_estimator(\n",
    "        classificador,\n",
    "        X_test,\n",
    "        y_test,\n",
    "        cmap=plt.cm.Blues,\n",
    "        normalize=normalize,\n",
    "    )\n",
    "    disp.ax_.set_title(title)\n",
    "\n",
    "    print(title)\n",
    "    print(disp.confusion_matrix)"
   ]
  },
  {
   "cell_type": "code",
   "execution_count": 25,
   "id": "92796127",
   "metadata": {
    "execution": {
     "iopub.execute_input": "2022-12-20T19:13:08.720792Z",
     "iopub.status.busy": "2022-12-20T19:13:08.720349Z",
     "iopub.status.idle": "2022-12-20T19:13:09.738625Z",
     "shell.execute_reply": "2022-12-20T19:13:09.737215Z"
    },
    "papermill": {
     "duration": 1.040178,
     "end_time": "2022-12-20T19:13:09.741289",
     "exception": false,
     "start_time": "2022-12-20T19:13:08.701111",
     "status": "completed"
    },
    "tags": []
   },
   "outputs": [
    {
     "name": "stdout",
     "output_type": "stream",
     "text": [
      "\n",
      "Relatório das métricas de classificação para dados de teste:\n",
      "\n",
      "              precision    recall  f1-score   support\n",
      "\n",
      "           0       0.71      0.33      0.46     41763\n",
      "           8       0.93      0.45      0.60    172121\n",
      "         108       0.76      0.97      0.86    409794\n",
      "\n",
      "    accuracy                           0.78    623678\n",
      "   macro avg       0.80      0.58      0.64    623678\n",
      "weighted avg       0.81      0.78      0.76    623678\n",
      "\n"
     ]
    }
   ],
   "source": [
    "# Metricas de classificação\n",
    "# =========================\n",
    "from sklearn import metrics\n",
    "\n",
    "print('\\nRelatório das métricas de classificação para dados de teste:\\n')\n",
    "print(metrics.classification_report(y_test, y_pred))"
   ]
  },
  {
   "cell_type": "markdown",
   "id": "a021a392",
   "metadata": {
    "papermill": {
     "duration": 0.016773,
     "end_time": "2022-12-20T19:13:09.774278",
     "exception": false,
     "start_time": "2022-12-20T19:13:09.757505",
     "status": "completed"
    },
    "tags": []
   },
   "source": [
    "### Redes Neurais Artificiais"
   ]
  },
  {
   "cell_type": "code",
   "execution_count": 26,
   "id": "786322d0",
   "metadata": {
    "execution": {
     "iopub.execute_input": "2022-12-20T19:13:09.820733Z",
     "iopub.status.busy": "2022-12-20T19:13:09.820193Z",
     "iopub.status.idle": "2022-12-20T19:13:09.826747Z",
     "shell.execute_reply": "2022-12-20T19:13:09.825619Z"
    },
    "papermill": {
     "duration": 0.041527,
     "end_time": "2022-12-20T19:13:09.832917",
     "exception": false,
     "start_time": "2022-12-20T19:13:09.791390",
     "status": "completed"
    },
    "tags": []
   },
   "outputs": [],
   "source": [
    "y_train = y_train.values.reshape(-1, 1)\n",
    "y_test = y_test.values.reshape(-1,1)"
   ]
  },
  {
   "cell_type": "code",
   "execution_count": 27,
   "id": "15387815",
   "metadata": {
    "execution": {
     "iopub.execute_input": "2022-12-20T19:13:09.874022Z",
     "iopub.status.busy": "2022-12-20T19:13:09.873679Z",
     "iopub.status.idle": "2022-12-20T19:13:10.309218Z",
     "shell.execute_reply": "2022-12-20T19:13:10.307983Z"
    },
    "papermill": {
     "duration": 0.454632,
     "end_time": "2022-12-20T19:13:10.312468",
     "exception": false,
     "start_time": "2022-12-20T19:13:09.857836",
     "status": "completed"
    },
    "tags": []
   },
   "outputs": [
    {
     "name": "stdout",
     "output_type": "stream",
     "text": [
      "[[0. 0. 1.]\n",
      " [0. 0. 1.]\n",
      " [0. 0. 1.]\n",
      " ...\n",
      " [0. 1. 0.]\n",
      " [0. 0. 1.]\n",
      " [0. 0. 1.]]\n"
     ]
    }
   ],
   "source": [
    "from sklearn.compose import ColumnTransformer\n",
    "from sklearn.preprocessing import OneHotEncoder\n",
    "ct = ColumnTransformer(transformers=[('encoder', OneHotEncoder(), [0])], remainder='passthrough')\n",
    "y_train = np.array(ct.fit_transform(y_train))\n",
    "y_test = np.array(ct.fit_transform(y_test))\n",
    "print(y_train)"
   ]
  },
  {
   "cell_type": "code",
   "execution_count": 28,
   "id": "8eec815b",
   "metadata": {
    "execution": {
     "iopub.execute_input": "2022-12-20T19:13:10.360677Z",
     "iopub.status.busy": "2022-12-20T19:13:10.360196Z",
     "iopub.status.idle": "2022-12-20T19:13:25.374748Z",
     "shell.execute_reply": "2022-12-20T19:13:25.373545Z"
    },
    "papermill": {
     "duration": 15.040376,
     "end_time": "2022-12-20T19:13:25.377880",
     "exception": false,
     "start_time": "2022-12-20T19:13:10.337504",
     "status": "completed"
    },
    "tags": []
   },
   "outputs": [
    {
     "name": "stderr",
     "output_type": "stream",
     "text": [
      "2022-12-20 19:13:20.208221: I tensorflow/stream_executor/cuda/cuda_gpu_executor.cc:937] successful NUMA node read from SysFS had negative value (-1), but there must be at least one NUMA node, so returning NUMA node zero\n",
      "2022-12-20 19:13:20.209214: I tensorflow/stream_executor/cuda/cuda_gpu_executor.cc:937] successful NUMA node read from SysFS had negative value (-1), but there must be at least one NUMA node, so returning NUMA node zero\n",
      "2022-12-20 19:13:20.578612: I tensorflow/stream_executor/cuda/cuda_gpu_executor.cc:937] successful NUMA node read from SysFS had negative value (-1), but there must be at least one NUMA node, so returning NUMA node zero\n",
      "2022-12-20 19:13:20.579611: I tensorflow/stream_executor/cuda/cuda_gpu_executor.cc:937] successful NUMA node read from SysFS had negative value (-1), but there must be at least one NUMA node, so returning NUMA node zero\n",
      "2022-12-20 19:13:20.580476: I tensorflow/stream_executor/cuda/cuda_gpu_executor.cc:937] successful NUMA node read from SysFS had negative value (-1), but there must be at least one NUMA node, so returning NUMA node zero\n",
      "2022-12-20 19:13:20.581288: I tensorflow/stream_executor/cuda/cuda_gpu_executor.cc:937] successful NUMA node read from SysFS had negative value (-1), but there must be at least one NUMA node, so returning NUMA node zero\n",
      "2022-12-20 19:13:20.583713: I tensorflow/core/platform/cpu_feature_guard.cc:142] This TensorFlow binary is optimized with oneAPI Deep Neural Network Library (oneDNN) to use the following CPU instructions in performance-critical operations:  AVX2 AVX512F FMA\n",
      "To enable them in other operations, rebuild TensorFlow with the appropriate compiler flags.\n",
      "2022-12-20 19:13:20.838424: I tensorflow/stream_executor/cuda/cuda_gpu_executor.cc:937] successful NUMA node read from SysFS had negative value (-1), but there must be at least one NUMA node, so returning NUMA node zero\n",
      "2022-12-20 19:13:20.839657: I tensorflow/stream_executor/cuda/cuda_gpu_executor.cc:937] successful NUMA node read from SysFS had negative value (-1), but there must be at least one NUMA node, so returning NUMA node zero\n",
      "2022-12-20 19:13:20.840824: I tensorflow/stream_executor/cuda/cuda_gpu_executor.cc:937] successful NUMA node read from SysFS had negative value (-1), but there must be at least one NUMA node, so returning NUMA node zero\n",
      "2022-12-20 19:13:20.841944: I tensorflow/stream_executor/cuda/cuda_gpu_executor.cc:937] successful NUMA node read from SysFS had negative value (-1), but there must be at least one NUMA node, so returning NUMA node zero\n",
      "2022-12-20 19:13:20.843074: I tensorflow/stream_executor/cuda/cuda_gpu_executor.cc:937] successful NUMA node read from SysFS had negative value (-1), but there must be at least one NUMA node, so returning NUMA node zero\n",
      "2022-12-20 19:13:20.844186: I tensorflow/stream_executor/cuda/cuda_gpu_executor.cc:937] successful NUMA node read from SysFS had negative value (-1), but there must be at least one NUMA node, so returning NUMA node zero\n",
      "2022-12-20 19:13:24.962827: I tensorflow/stream_executor/cuda/cuda_gpu_executor.cc:937] successful NUMA node read from SysFS had negative value (-1), but there must be at least one NUMA node, so returning NUMA node zero\n",
      "2022-12-20 19:13:24.963808: I tensorflow/stream_executor/cuda/cuda_gpu_executor.cc:937] successful NUMA node read from SysFS had negative value (-1), but there must be at least one NUMA node, so returning NUMA node zero\n",
      "2022-12-20 19:13:24.964552: I tensorflow/stream_executor/cuda/cuda_gpu_executor.cc:937] successful NUMA node read from SysFS had negative value (-1), but there must be at least one NUMA node, so returning NUMA node zero\n",
      "2022-12-20 19:13:24.965258: I tensorflow/stream_executor/cuda/cuda_gpu_executor.cc:937] successful NUMA node read from SysFS had negative value (-1), but there must be at least one NUMA node, so returning NUMA node zero\n",
      "2022-12-20 19:13:24.965980: I tensorflow/stream_executor/cuda/cuda_gpu_executor.cc:937] successful NUMA node read from SysFS had negative value (-1), but there must be at least one NUMA node, so returning NUMA node zero\n",
      "2022-12-20 19:13:24.966673: I tensorflow/core/common_runtime/gpu/gpu_device.cc:1510] Created device /job:localhost/replica:0/task:0/device:GPU:0 with 13789 MB memory:  -> device: 0, name: Tesla T4, pci bus id: 0000:00:04.0, compute capability: 7.5\n",
      "2022-12-20 19:13:24.974998: I tensorflow/stream_executor/cuda/cuda_gpu_executor.cc:937] successful NUMA node read from SysFS had negative value (-1), but there must be at least one NUMA node, so returning NUMA node zero\n",
      "2022-12-20 19:13:24.975883: I tensorflow/core/common_runtime/gpu/gpu_device.cc:1510] Created device /job:localhost/replica:0/task:0/device:GPU:1 with 13789 MB memory:  -> device: 1, name: Tesla T4, pci bus id: 0000:00:05.0, compute capability: 7.5\n"
     ]
    }
   ],
   "source": [
    "import warnings\n",
    "warnings.simplefilter(action='ignore', category=FutureWarning)\n",
    "\n",
    "import tensorflow as tf\n",
    "from tensorflow.keras.models import Sequential\n",
    "from tensorflow.keras.layers import Dense\n",
    "from tensorflow.keras.activations import linear, relu, sigmoid, softmax\n",
    "\n",
    "\n",
    "tf.random.set_seed(1234) # for consistent results\n",
    "model = Sequential(\n",
    "    [               \n",
    "        tf.keras.Input(shape=(2,)),\n",
    "        Dense(25, activation = 'relu', name = \"L1\"),\n",
    "        Dense(20, activation = 'relu', name = \"L2\"),\n",
    "        Dense(3, activation = 'softmax', name = \"L3\"),    \n",
    "    ], name = \"my_model\" \n",
    ")"
   ]
  },
  {
   "cell_type": "code",
   "execution_count": 29,
   "id": "62d73f42",
   "metadata": {
    "execution": {
     "iopub.execute_input": "2022-12-20T19:13:25.406264Z",
     "iopub.status.busy": "2022-12-20T19:13:25.405232Z",
     "iopub.status.idle": "2022-12-20T19:13:25.411925Z",
     "shell.execute_reply": "2022-12-20T19:13:25.410448Z"
    },
    "papermill": {
     "duration": 0.022841,
     "end_time": "2022-12-20T19:13:25.414697",
     "exception": false,
     "start_time": "2022-12-20T19:13:25.391856",
     "status": "completed"
    },
    "tags": []
   },
   "outputs": [
    {
     "name": "stdout",
     "output_type": "stream",
     "text": [
      "Model: \"my_model\"\n",
      "_________________________________________________________________\n",
      "Layer (type)                 Output Shape              Param #   \n",
      "=================================================================\n",
      "L1 (Dense)                   (None, 25)                75        \n",
      "_________________________________________________________________\n",
      "L2 (Dense)                   (None, 20)                520       \n",
      "_________________________________________________________________\n",
      "L3 (Dense)                   (None, 3)                 63        \n",
      "=================================================================\n",
      "Total params: 658\n",
      "Trainable params: 658\n",
      "Non-trainable params: 0\n",
      "_________________________________________________________________\n"
     ]
    }
   ],
   "source": [
    "model.summary()"
   ]
  },
  {
   "cell_type": "code",
   "execution_count": 30,
   "id": "0a5a36b8",
   "metadata": {
    "execution": {
     "iopub.execute_input": "2022-12-20T19:13:25.441722Z",
     "iopub.status.busy": "2022-12-20T19:13:25.441434Z",
     "iopub.status.idle": "2022-12-20T19:13:25.454141Z",
     "shell.execute_reply": "2022-12-20T19:13:25.452668Z"
    },
    "papermill": {
     "duration": 0.028727,
     "end_time": "2022-12-20T19:13:25.457024",
     "exception": false,
     "start_time": "2022-12-20T19:13:25.428297",
     "status": "completed"
    },
    "tags": []
   },
   "outputs": [
    {
     "name": "stdout",
     "output_type": "stream",
     "text": [
      "W1 shape = (2, 25), b1 shape = (25,)\n",
      "W2 shape = (25, 20), b2 shape = (20,)\n",
      "W3 shape = (20, 3), b3 shape = (3,)\n"
     ]
    }
   ],
   "source": [
    "[layer1, layer2, layer3] = model.layers\n",
    "W1,b1 = layer1.get_weights()\n",
    "W2,b2 = layer2.get_weights()\n",
    "W3,b3 = layer3.get_weights()\n",
    "print(f\"W1 shape = {W1.shape}, b1 shape = {b1.shape}\")\n",
    "print(f\"W2 shape = {W2.shape}, b2 shape = {b2.shape}\")\n",
    "print(f\"W3 shape = {W3.shape}, b3 shape = {b3.shape}\")"
   ]
  },
  {
   "cell_type": "code",
   "execution_count": 31,
   "id": "bd2b1b53",
   "metadata": {
    "execution": {
     "iopub.execute_input": "2022-12-20T19:13:25.484186Z",
     "iopub.status.busy": "2022-12-20T19:13:25.483901Z",
     "iopub.status.idle": "2022-12-20T19:13:25.492762Z",
     "shell.execute_reply": "2022-12-20T19:13:25.490933Z"
    },
    "papermill": {
     "duration": 0.02447,
     "end_time": "2022-12-20T19:13:25.494927",
     "exception": true,
     "start_time": "2022-12-20T19:13:25.470457",
     "status": "failed"
    },
    "tags": []
   },
   "outputs": [
    {
     "name": "stderr",
     "output_type": "stream",
     "text": [
      "UsageError: Line magic function `%%time` not found.\n"
     ]
    }
   ],
   "source": [
    "import warnings\n",
    "warnings.simplefilter(action='ignore', category=FutureWarning)\n",
    "\n",
    "%%time\n",
    "model.compile(loss= tf.keras.losses.CategoricalCrossentropy(from_logits=True),\n",
    "    optimizer=tf.keras.optimizers.Adam(learning_rate=0.001), metrics = ['accuracy']\n",
    "    )\n",
    "\n",
    "history = model.fit(X_train, y_train, epochs= 20,  validation_split = 0.5)"
   ]
  },
  {
   "cell_type": "code",
   "execution_count": null,
   "id": "a24e6299",
   "metadata": {
    "execution": {
     "iopub.execute_input": "2022-12-20T18:07:11.701078Z",
     "iopub.status.busy": "2022-12-20T18:07:11.700707Z",
     "iopub.status.idle": "2022-12-20T18:07:32.219329Z",
     "shell.execute_reply": "2022-12-20T18:07:32.218301Z",
     "shell.execute_reply.started": "2022-12-20T18:07:11.701033Z"
    },
    "papermill": {
     "duration": null,
     "end_time": null,
     "exception": null,
     "start_time": null,
     "status": "pending"
    },
    "tags": []
   },
   "outputs": [],
   "source": [
    "y_pred = model.predict(X_test)\n",
    "y_pred"
   ]
  },
  {
   "cell_type": "code",
   "execution_count": null,
   "id": "1bd78ae1",
   "metadata": {
    "execution": {
     "iopub.execute_input": "2022-12-20T18:07:37.675827Z",
     "iopub.status.busy": "2022-12-20T18:07:37.675458Z",
     "iopub.status.idle": "2022-12-20T18:07:38.922877Z",
     "shell.execute_reply": "2022-12-20T18:07:38.921860Z",
     "shell.execute_reply.started": "2022-12-20T18:07:37.675796Z"
    },
    "papermill": {
     "duration": null,
     "end_time": null,
     "exception": null,
     "start_time": null,
     "status": "pending"
    },
    "tags": []
   },
   "outputs": [],
   "source": [
    "y_pred_ = np.zeros(len(y_pred))\n",
    "for i in range(len(y_pred)):\n",
    "    y_pred_[i] = np.argmax(y_pred[i])\n",
    "    \n",
    "y_pred_"
   ]
  },
  {
   "cell_type": "code",
   "execution_count": null,
   "id": "5b2c82c5",
   "metadata": {
    "execution": {
     "iopub.execute_input": "2022-12-20T18:07:53.515876Z",
     "iopub.status.busy": "2022-12-20T18:07:53.515458Z",
     "iopub.status.idle": "2022-12-20T18:07:53.582988Z",
     "shell.execute_reply": "2022-12-20T18:07:53.581869Z",
     "shell.execute_reply.started": "2022-12-20T18:07:53.515844Z"
    },
    "papermill": {
     "duration": null,
     "end_time": null,
     "exception": null,
     "start_time": null,
     "status": "pending"
    },
    "tags": []
   },
   "outputs": [],
   "source": [
    "from sklearn.compose import ColumnTransformer\n",
    "from sklearn.preprocessing import OneHotEncoder\n",
    "ct = ColumnTransformer(transformers=[('encoder', OneHotEncoder(), [0])], remainder='passthrough')\n",
    "y_pred_ = np.array(ct.fit_transform(y_pred_.reshape(-1, 1)))\n",
    "print(y_pred_)"
   ]
  },
  {
   "cell_type": "code",
   "execution_count": null,
   "id": "ddbdc931",
   "metadata": {
    "execution": {
     "iopub.execute_input": "2022-12-20T18:10:10.767650Z",
     "iopub.status.busy": "2022-12-20T18:10:10.767270Z",
     "iopub.status.idle": "2022-12-20T18:10:10.887381Z",
     "shell.execute_reply": "2022-12-20T18:10:10.886170Z",
     "shell.execute_reply.started": "2022-12-20T18:10:10.767617Z"
    },
    "papermill": {
     "duration": null,
     "end_time": null,
     "exception": null,
     "start_time": null,
     "status": "pending"
    },
    "tags": []
   },
   "outputs": [],
   "source": [
    "from sklearn.metrics import confusion_matrix, accuracy_score\n",
    "cm = confusion_matrix(y_test.argmax(axis=1), y_pred_.argmax(axis=1))\n",
    "print(cm)\n",
    "accuracy_score(y_test.argmax(axis=1), y_pred_.argmax(axis=1))"
   ]
  },
  {
   "cell_type": "code",
   "execution_count": null,
   "id": "c599f12d",
   "metadata": {
    "execution": {
     "iopub.execute_input": "2022-12-20T18:10:22.378193Z",
     "iopub.status.busy": "2022-12-20T18:10:22.377782Z",
     "iopub.status.idle": "2022-12-20T18:10:23.093680Z",
     "shell.execute_reply": "2022-12-20T18:10:23.092440Z",
     "shell.execute_reply.started": "2022-12-20T18:10:22.378157Z"
    },
    "papermill": {
     "duration": null,
     "end_time": null,
     "exception": null,
     "start_time": null,
     "status": "pending"
    },
    "tags": []
   },
   "outputs": [],
   "source": [
    "# Metricas de classificação\n",
    "# =========================\n",
    "from sklearn import metrics\n",
    "\n",
    "print('\\nRelatório das métricas de classificação para dados de teste:\\n')\n",
    "print(metrics.classification_report(y_test.argmax(axis=1), y_pred_.argmax(axis=1)))"
   ]
  }
 ],
 "metadata": {
  "kernelspec": {
   "display_name": "Python 3",
   "language": "python",
   "name": "python3"
  },
  "language_info": {
   "codemirror_mode": {
    "name": "ipython",
    "version": 3
   },
   "file_extension": ".py",
   "mimetype": "text/x-python",
   "name": "python",
   "nbconvert_exporter": "python",
   "pygments_lexer": "ipython3",
   "version": "3.7.12"
  },
  "papermill": {
   "default_parameters": {},
   "duration": 245.3003,
   "end_time": "2022-12-20T19:13:28.973504",
   "environment_variables": {},
   "exception": true,
   "input_path": "__notebook__.ipynb",
   "output_path": "__notebook__.ipynb",
   "parameters": {},
   "start_time": "2022-12-20T19:09:23.673204",
   "version": "2.3.4"
  }
 },
 "nbformat": 4,
 "nbformat_minor": 5
}
